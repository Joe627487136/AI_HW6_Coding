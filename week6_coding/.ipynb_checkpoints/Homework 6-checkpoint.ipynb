{
 "cells": [
  {
   "cell_type": "markdown",
   "metadata": {},
   "source": [
    "## Coding Part"
   ]
  },
  {
   "cell_type": "code",
   "execution_count": 1,
   "metadata": {},
   "outputs": [],
   "source": [
    "from hw6_code import *\n",
    "\n",
    "star_filter = ['NEXTEPISODE']\n",
    "dataset = MovieScriptDataset('star_trek_transcripts_all_episodes_f.csv',\n",
    "                             filterwords=star_filter)\n",
    "train_data, test_data = dataset.split_train_test()"
   ]
  },
  {
   "cell_type": "code",
   "execution_count": 2,
   "metadata": {},
   "outputs": [],
   "source": [
    "lstm_mod = CoveredLSTM(len(charspace), 200, 3, len(charspace)).cuda()"
   ]
  },
  {
   "cell_type": "code",
   "execution_count": null,
   "metadata": {},
   "outputs": [
    {
     "name": "stdout",
     "output_type": "stream",
     "text": [
      "EPOCH 0\n",
      "      >> Epoch loss 2.35646 accuracy 0.226                    in 26.5306s\n",
      "      >> Epoch loss 0.82182 accuracy 0.316                    in 7.2896s\n",
      "      sample line: CHEKOV: Nothing.\n",
      "      sample output: COOY::: Ihu eng \n",
      "EPOCH 1\n",
      "      >> Epoch loss 1.65637 accuracy 0.413                    in 26.4608s\n",
      "      >> Epoch loss 0.62288 accuracy 0.472                    in 7.2867s\n",
      "      sample line: TANNOY: No countdown delay. Repeat, no delay. All systems are green and go. All systems are go.\n",
      "      sample output: THRLA:: Ie yanldeer  tesete Ie orte Cetyeaene Inl th tems ane aeeas t d tes I l th tems ane aes\n",
      "EPOCH 2\n",
      "      >> Epoch loss 1.33454 accuracy 0.515                    in 26.3438s\n",
      "      >> Epoch loss 0.52404 accuracy 0.549                    in 7.2846s\n",
      "      sample line: CHEKOV: Captain, the alien ship has changed course and speed. Moving directly toward us at warp eight.\n",
      "      sample output: CHEKOV: Iaptain. yhe srlen ttip iis aoarge  tonrse ond toecd \n",
      "Iiseng teeectiy ah ard ts a  tays oxght \n",
      "EPOCH 3\n",
      "      >> Epoch loss 1.18302 accuracy 0.562                    in 26.3662s\n",
      "      >> Epoch loss 0.48507 accuracy 0.577                    in 7.3171s\n",
      "      sample line: SPOCK: Tonal control. Fascinating.\n",
      "      sample output: SPOCK: Ih el doutrol  Iiscinating \n",
      "EPOCH 4\n",
      "      >> Epoch loss 1.10147 accuracy 0.589                    in 26.3475s\n",
      "      >> Epoch loss 0.45798 accuracy 0.600                    in 7.2998s\n",
      "      sample line: KRAKO: I haven't been arrested in my whole life! Listen, pally, I know how to get what I want. You want to live, don't you, Kirk? You bet you do. But after I get through with you, you're liable to be sorry unless you come across. Hold him here. Tell Cirl the Knife to sharpen up his blade. I just might have a job for him. Unless you come across with the heaters.\n",
      "      sample output: KIAKO: I dave 't been a eent d tt ty paile tife  Iieten  Crra   C wnow wew dh det tiat y cast \n",
      "Iou mint to deve  Ci 't you  Cirk \n",
      "Iou melttou do \n",
      "Iut y ter t aot theeugh tethotour Cou re aikkle to be aumry tstess aou daup intest  Iewd tam.tare.\n",
      "Ihll yapcuthe slocorth teile reis aem ceosed\n",
      "I wust tenht bave b duk aor tim.\n",
      "Indess tou daup intest tith the sead rs.\n",
      "EPOCH 5\n",
      "      >> Epoch loss 1.04865 accuracy 0.606                    in 26.4704s\n",
      "      >> Epoch loss 0.44190 accuracy 0.613                    in 7.3168s\n",
      "      sample line: KIRK: Bridge to auxiliary control. Bridge to auxiliary control.\n",
      "      sample output: KIRK: Ieinge to t tol ary tontrol  Iuinge to t tol ary tontrol \n",
      "EPOCH 6\n",
      "      >> Epoch loss 1.01138 accuracy 0.618                    in 26.3880s\n",
      "      >> Epoch loss 0.43294 accuracy 0.620                    in 7.3217s\n",
      "      sample line: SULU: May the Great Bird of the Galaxy bless your planet.\n",
      "      sample output: SPLU: CyybIhe ceaet oalm of the sallxy iaonseoeu  moanet \n",
      "EPOCH 7\n",
      "      >> Epoch loss 0.98270 accuracy 0.627                    in 26.5022s\n",
      "      >> Epoch loss 0.42570 accuracy 0.625                    in 7.5430s\n",
      "      sample line: SCOTT: Aye, and a thorough job. The system's foolproof. Whoever murdered Watkins sabotaged this.\n",
      "      sample output: SPOTT: Aye, ayd y choueugh tuu  Ihe shmtem s sordieyam  Iea ver yecderer tarcing aevotege  ahes \n",
      "EPOCH 8\n",
      "      >> Epoch loss 0.96012 accuracy 0.634                    in 27.0313s\n",
      "      >> Epoch loss 0.41985 accuracy 0.630                    in 7.4332s\n",
      "      sample line: KIRK: Against the wall!\n",
      "      sample output: KIRK: Inain,t the sayl \n",
      "EPOCH 9\n",
      "      >> Epoch loss 0.94157 accuracy 0.640                    in 26.5237s\n",
      "      >> Epoch loss 0.41386 accuracy 0.635                    in 7.3026s\n",
      "      sample line: CLOUD: You spoke to Kohms. They are only for killing.\n",
      "      sample output: CHAUD: Iou maete hh tidua  Ihe  wre anly tor tilling \n",
      "EPOCH 10\n",
      "      >> Epoch loss 0.92539 accuracy 0.646                    in 26.3956s\n",
      "      >> Epoch loss 0.41008 accuracy 0.638                    in 7.3437s\n",
      "      sample line: KIRK: A personal conflict between us. Not like the duel before, but the real thing. The stakes, a human life. Mine.\n",
      "      sample output: KIRK: Inmlrsonal contiict oelween tse\n",
      "Iot aike the set..aafore  aut the sesd ooisg  Ihe shrres  anmunan bife  Iyso \n",
      "EPOCH 11\n",
      "      >> Epoch loss 0.91080 accuracy 0.650                    in 26.4625s\n",
      "      >> Epoch loss 0.40731 accuracy 0.639                    in 7.3277s\n",
      "      sample line: AMANDA: I hope you were not disturbed by my son's behaviour, Selek.\n",
      "      sample output: ALANDA: I dape you mare aot aescurbed ty ty fhn.s seiaveour  Cpcfca\n",
      "EPOCH 12\n",
      "      >> Epoch loss 0.89736 accuracy 0.654                    in 26.7500s\n",
      "      >> Epoch loss 0.40494 accuracy 0.641                    in 7.4222s\n",
      "      sample line: RED HEAD BOY: I remember, Jahn, the way it was.\n",
      "      sample output: RAG:HEAG SOY: I demember  Cimio Ihe say os was \n",
      "EPOCH 13\n",
      "      >> Epoch loss 0.88534 accuracy 0.658                    in 26.6865s\n",
      "      >> Epoch loss 0.40343 accuracy 0.642                    in 7.3272s\n",
      "      sample line: RAND: Yes, sir.\n",
      "      sample output: RAND: Ies, Iir.\n",
      "EPOCH 14\n",
      "      >> Epoch loss 0.87459 accuracy 0.662                    in 27.2974s\n",
      "      >> Epoch loss 0.40243 accuracy 0.643                    in 7.6419s\n",
      "      sample line: THANN: Captain Kirk! We have decided that one specimen will be sufficient. You will come with us.\n",
      "      sample output: TRERA: Yoptain,Kirk,\n",
      "Ie have aesided toet tue oeecimen.aatl be aurficient.\n",
      "Iou mill bome iith ms.\n"
     ]
    }
   ],
   "source": [
    "trained_model, train_loss_acc, test_loss_acc = train(train_data, test_data, lstm_mod, resume_from=0, save_model_every=5,\n",
    "                                                     learnrate=2.5e-1, batch_size=20, sample_every=5000, epoch=10)"
   ]
  },
  {
   "cell_type": "code",
   "execution_count": null,
   "metadata": {},
   "outputs": [],
   "source": [
    "plot_over_epoch(train_loss_acc, test_loss_acc)\n",
    "print (\"blue: tr_loss, red: tst_loss | black: tr_acc, cyan: tst_acc\")"
   ]
  },
  {
   "cell_type": "code",
   "execution_count": null,
   "metadata": {},
   "outputs": [],
   "source": [
    "# sampling 50 sentences\n",
    "for i in range(50):\n",
    "    print('GENERATED:', trained_model.sample(max_length=500))"
   ]
  }
 ],
 "metadata": {
  "kernelspec": {
   "display_name": "Python 3",
   "language": "python",
   "name": "python3"
  },
  "language_info": {
   "codemirror_mode": {
    "name": "ipython",
    "version": 3
   },
   "file_extension": ".py",
   "mimetype": "text/x-python",
   "name": "python",
   "nbconvert_exporter": "python",
   "pygments_lexer": "ipython3",
   "version": "3.6.5"
  }
 },
 "nbformat": 4,
 "nbformat_minor": 2
}
