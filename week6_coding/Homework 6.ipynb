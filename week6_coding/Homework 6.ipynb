{
 "cells": [
  {
   "cell_type": "markdown",
   "metadata": {},
   "source": [
    "## Coding Part"
   ]
  },
  {
   "cell_type": "code",
   "execution_count": 1,
   "metadata": {},
   "outputs": [],
   "source": [
    "from hw6_code import *\n",
    "\n",
    "star_filter = ['NEXTEPISODE']\n",
    "dataset = MovieScriptDataset('star_trek_transcripts_all_episodes_f.csv',\n",
    "                             filterwords=star_filter)\n",
    "train_data, test_data = dataset.split_train_test()"
   ]
  },
  {
   "cell_type": "code",
   "execution_count": 2,
   "metadata": {},
   "outputs": [],
   "source": [
    "lstm_mod = CoveredLSTM(len(charspace), 200, 3, len(charspace)).cuda()"
   ]
  },
  {
   "cell_type": "code",
   "execution_count": 3,
   "metadata": {},
   "outputs": [
    {
     "name": "stdout",
     "output_type": "stream",
     "text": [
      "EPOCH 0\n",
      "      >> Epoch loss 2.35314 accuracy 0.228                    in 26.5514s\n",
      "      >> Epoch loss 0.80802 accuracy 0.326                    in 7.3191s\n",
      "      sample line: MCCOY:  No response.\n",
      "      sample output: MCCOY: TIortoueat  s\n",
      "EPOCH 1\n",
      "      >> Epoch loss 1.67441 accuracy 0.407                    in 26.4344s\n",
      "      >> Epoch loss 0.62948 accuracy 0.470                    in 7.3095s\n",
      "      sample line: ALICE 2: If you will follow us, please?\n",
      "      sample output: ALIRA::: T  you aell torl t on  Iraasi \n",
      "EPOCH 2\n",
      "      >> Epoch loss 1.34891 accuracy 0.510                    in 26.3969s\n",
      "      >> Epoch loss 0.53583 accuracy 0.538                    in 7.3295s\n",
      "      sample line: KIRK: A simple transference. Their minds and ours.\n",
      "      sample output: KIRK: Wnshrply toapspor nce \n",
      "Ihe r iend  ond tfr e\n",
      "EPOCH 3\n",
      "      >> Epoch loss 1.18892 accuracy 0.562                    in 26.3838s\n",
      "      >> Epoch loss 0.48707 accuracy 0.577                    in 7.3376s\n",
      "      sample line: KIRK: What have you done with my men?\n",
      "      sample output: KIRK: Weat iape you ao e oeth ye oadt\n",
      "EPOCH 4\n",
      "      >> Epoch loss 1.10206 accuracy 0.590                    in 26.4108s\n",
      "      >> Epoch loss 0.46090 accuracy 0.597                    in 7.3296s\n",
      "      sample line: KIRK: Bridge.\n",
      "      sample output: KIRK: Wuidge \n",
      "EPOCH 5\n",
      "      >> Epoch loss 1.04712 accuracy 0.608                    in 26.4210s\n",
      "      >> Epoch loss 0.44547 accuracy 0.609                    in 7.3070s\n",
      "      sample line: MCCOY: Oh, yes. Of course.\n",
      "      sample output: MCCOY: Th, yos, Ih course \n",
      "EPOCH 6\n",
      "      >> Epoch loss 1.00838 accuracy 0.620                    in 26.3779s\n",
      "      >> Epoch loss 0.43375 accuracy 0.617                    in 7.3187s\n",
      "      sample line: THELEV: They could not surrender, Captain. They had orders to selfdestruct.\n",
      "      sample output: THEENN: The 'wauld hot hervender  Captain.\n",
      "Ihe 'wav tndere to beey  st uct \n",
      "EPOCH 7\n",
      "      >> Epoch loss 0.97985 accuracy 0.629                    in 26.4342s\n",
      "      >> Epoch loss 0.42485 accuracy 0.624                    in 7.3211s\n",
      "      sample line: CHAPEL: What is it?\n",
      "      sample output: CHEPEL: Yeat is it?\n",
      "EPOCH 8\n",
      "      >> Epoch loss 0.95669 accuracy 0.636                    in 26.3958s\n",
      "      >> Epoch loss 0.41971 accuracy 0.628                    in 7.3292s\n",
      "      sample line: LANDRU: You have come as destroyers. You bring an infection.\n",
      "      sample output: LARDRU: Iou aave tome tn aestroyeds \n",
      "Tou weong y yentortion \n",
      "EPOCH 9\n",
      "      >> Epoch loss 0.93800 accuracy 0.642                    in 26.4654s\n",
      "      >> Epoch loss 0.41583 accuracy 0.632                    in 7.3413s\n",
      "      sample line: THANN: If you live, you will have your answer.\n",
      "      sample output: THENN: T  you dike  you cill dave tou  pnswers\n"
     ]
    }
   ],
   "source": [
    "trained_model, train_loss_acc, test_loss_acc = train(train_data, test_data, lstm_mod, resume_from=0, save_model_every=5,\n",
    "                                                     learnrate=2.5e-1, batch_size=20, sample_every=5000, epoch=10)"
   ]
  },
  {
   "cell_type": "code",
   "execution_count": 4,
   "metadata": {},
   "outputs": [
    {
     "name": "stdout",
     "output_type": "stream",
     "text": [
      "blue: tr_loss, red: tst_loss | black: tr_acc, cyan: tst_acc\n"
     ]
    },
    {
     "data": {
      "image/png": "[encoded data removed]",
      "text/plain": [
       "<Figure size 432x288 with 2 Axes>"
      ]
     },
     "metadata": {},
     "output_type": "display_data"
    }
   ],
   "source": [
    "plot_over_epoch(train_loss_acc, test_loss_acc)\n",
    "print (\"blue: tr_loss, red: tst_loss | black: tr_acc, cyan: tst_acc\")"
   ]
  },
  {
   "cell_type": "code",
   "execution_count": 5,
   "metadata": {},
   "outputs": [
    {
     "name": "stdout",
     "output_type": "stream",
     "text": [
      "GENERATED: ZARABETH: I like to support to the soul. You were my perfect of a way on the despite as a natural right. The Enterprise is command. Our compartments is still become as exactly with the transporter room. The ship has an experiments.\n",
      "GENERATED: ATOZ: What is it?\n",
      "GENERATED: UHURA: What is it?\n",
      "GENERATED: FINNEY: To expect me.\n",
      "GENERATED: MCCOY: We are not ship. I was no matter with the prepared for you to the angry, sir.\n",
      "GENERATED: LAZARUS: Captain, the galaxy of the signal systems of the strength of the assume they're going to do.\n",
      "GENERATED: UHURA: Captain, the ship is to be me. I may solve the same starship. You'll go away.\n",
      "GENERATED: DECKER: The starship Enterprise. I want. Ahead and step in an excellent course and solve for you with you.\n",
      "GENERATED: DESALLE: Do you live here at the fact weeks are on the Klingon ships. And it would be a reasonable for you. I shall indeed a duplicate with the landing party service.\n",
      "GENERATED: MCCOY: The galaxy controls are not realised your part.\n",
      "GENERATED: VANDERBERG: I come with you, Captain.\n",
      "GENERATED: SPOCK: Starfleet Command. Any command and signal. I can still have it here.\n",
      "GENERATED: GALTOWA: Well, we'll be true.\n",
      "GENERATED: PIKE: Then you want to find you to die.\n",
      "GENERATED: GARTH: I was the strain of the ship and you am your crew to be a final force for you. I am not honoured.\n",
      "GENERATED: AYELBORNE: I was the martiaus.\n",
      "GENERATED: LARS: Where's Mister Spock?\n",
      "GENERATED: BAILEY: I should have something to make you and don't say my is an order to the passing of the people? We should have only to prove that he seems to see you to destroy the way.\n",
      "GENERATED: SPOCK: The same time like the Enterprise is a new prived and the central point on some of the ship. The transporter room room. The kill of your mind, and at the power systems right, Spock. We'll stay here.\n",
      "GENERATED: MCCOY: Well, I am not primitive in the sky before you are the screen of everything I are dead. We'll stay here.\n",
      "GENERATED: KIRK: Scan here show it is to be a few the Enterprise.\n",
      "GENERATED: OXMYX: I didn't get to have you gone on the power same report.\n",
      "GENERATED: VINCHER: You wouldn't live me. The screen is right.\n",
      "GENERATED: PIKE: I'm not harmful. We're lived. And we don't want to show you.\n",
      "GENERATED: WESLEY: The medical standard a seven female is receiving a medical at a phaser for to you.\n",
      "GENERATED: SPOCK: He should be the forces of the bit and increasing the captain with the Earth time we are a very part of the ship appears on the fact.\n",
      "GENERATED: CHEKOV: I should be a militor of the Enterprise.\n",
      "GENERATED: MCCOY: You do not know what it is it?\n",
      "GENERATED: PIKE: No. I shall right. Didn't see it said is a home of the ship.\n",
      "GENERATED: DECKER: I don't make the stand by the ports of a minute. How do you get a thing was to call over the open and stand by.\n",
      "GENERATED: JONES: And you can do it to be our own sublight, Captain.\n",
      "GENERATED: RAND: We can mind it out of how to show you where you are on the ship, and the ship and transmit with you to be the responsibility. The captain is in the ship. I don't want to see it as a million of the seconds of the condition.\n",
      "GENERATED: JARIS: Did you take a creature to say a starship circuit captain.\n",
      "GENERATED: CLAUDIUS: We're losing the personnel, and the ship is a records of computers in any matter.\n",
      "GENERATED: ONE: The life for you control the proper to the ship appears.\n",
      "GENERATED: HAMON: Have you do not contact the ship and a computer and the computer is standing by the life is the captain.\n",
      "GENERATED: WALLACE: You may have happened?\n",
      "GENERATED: DECKER: I intend to be a moment.\n",
      "GENERATED: NOMAD: I am not surprised to expect the medical readings party to hear it disturbanges.\n",
      "GENERATED: JONES: Captain, up the primitive orders are repairing to the ship.\n",
      "GENERATED: JONES: Oh, you'll be gone to the Captain knows the time for you. You'll be a complete system. I am, I do not know any of you.\n",
      "GENERATED: THANN: I'm going to have to be able to investigate the captain. And our computer experiments to solve the Enterprise.\n",
      "GENERATED: THELANE: One hour starship Enterprise, but I am the computer and the only stronger is reported it. It's a mascigraps of the same personnel. The Enterprise is the correct, Captain.\n",
      "GENERATED: COMPUTER: I'm a long range of the ship. A warp from the starship Enterprise. The starship Enterprise is exactly mission.\n",
      "GENERATED: ROMULAN: Captain. I have to see you course.\n",
      "GENERATED: GAETDIA: I don't know what you want?\n",
      "GENERATED: ANDREA: You would have to talk to self the ship and the creatures.\n",
      "GENERATED: UHURA: At least you are dead.\n",
      "GENERATED: SPOCK: The primitive captain, the open on our power service. You've got to destroy the Captain's condition. I can stand you to see you against one minute.\n",
      "GENERATED: HAMLICH: I shall talk to she has had been reached to say the ship.\n"
     ]
    }
   ],
   "source": [
    "# sampling 50 sentences\n",
    "for i in range(50):\n",
    "    print('GENERATED:', trained_model.sample(max_length=500))"
   ]
  }
 ],
 "metadata": {
  "kernelspec": {
   "display_name": "Python 3",
   "language": "python",
   "name": "python3"
  },
  "language_info": {
   "codemirror_mode": {
    "name": "ipython",
    "version": 3
   },
   "file_extension": ".py",
   "mimetype": "text/x-python",
   "name": "python",
   "nbconvert_exporter": "python",
   "pygments_lexer": "ipython3",
   "version": "3.6.5"
  }
 },
 "nbformat": 4,
 "nbformat_minor": 2
}
